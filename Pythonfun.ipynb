{
  "nbformat": 4,
  "nbformat_minor": 0,
  "metadata": {
    "colab": {
      "provenance": [],
      "authorship_tag": "ABX9TyNs87XGxXefVdoUoAyQhtGq",
      "include_colab_link": true
    },
    "kernelspec": {
      "name": "python3",
      "display_name": "Python 3"
    },
    "language_info": {
      "name": "python"
    }
  },
  "cells": [
    {
      "cell_type": "markdown",
      "metadata": {
        "id": "view-in-github",
        "colab_type": "text"
      },
      "source": [
        "<a href=\"https://colab.research.google.com/github/Dajalucas/CS167-Notes/blob/main/Pythonfun.ipynb\" target=\"_parent\"><img src=\"https://colab.research.google.com/assets/colab-badge.svg\" alt=\"Open In Colab\"/></a>"
      ]
    },
    {
      "cell_type": "code",
      "execution_count": 21,
      "metadata": {
        "colab": {
          "base_uri": "https://localhost:8080/"
        },
        "id": "c01MMB6BJgmc",
        "outputId": "c007e4c3-eb73-45a2-c53a-d032c1047178"
      },
      "outputs": [
        {
          "output_type": "stream",
          "name": "stdout",
          "text": [
            "10 3.14 machine learning hi x [1, 2, 3]\n",
            "-----------------------------------\n",
            "a's type: <class 'int'>\n",
            "b's type: <class 'float'>\n",
            "c's type: <class 'str'>\n",
            "d's type: <class 'str'>\n",
            "e's type: <class 'str'>\n",
            "f's type: <class 'list'>\n",
            "-----------------------------------\n",
            "['abc', 2, 3]\n",
            "-----------------------------------\n",
            "['abc', 'what', 3]\n",
            "2\n",
            "['abc', 'what', 90, 3, 70]\n",
            "-----------------------------------\n",
            "2\n",
            "5\n",
            "['abc', 'what', 90, 3, 70, 'abc', 'what', 90, 3, 70]\n",
            "----------Switching code-------------------------\n",
            "[55, 'hello', 'R2D2', 7.8]\n",
            "[33, 55, 'hello', 'R2D2']\n",
            "[7.8, 'banana']\n",
            "[33, 55, 'hello', 'R2D2', 7.8, 'banana']\n",
            "-----------------------------------\n",
            "[55, 'hello', 'what', 7.8]\n",
            "[33, 55, 'hello', 'R2D2', 7.8, 'banana']\n",
            "[55, 'hello', 'R2D2', 7.8, 'Drake', 'University', 'Drake', 'University']\n",
            "['Bulldogs', 33, 55, 'hello', 'R2D2', 7.8, 'banana']\n"
          ]
        }
      ],
      "source": [
        "a=10\n",
        "b=3.14\n",
        "c = \"machine learning\"\n",
        "d = 'hi'\n",
        "e = 'x'\n",
        "f = [1,2,3]\n",
        "print(a,b,c,d,e,f)\n",
        "print(\"-----------------------------------\")\n",
        "print(\"a's type:\", type(a))\n",
        "a = 'variables can change types'\n",
        "# Changes to the given code\n",
        "#print(\"a's type:\", type(a))\n",
        "print(\"b's type:\",type(b))\n",
        "print(\"c's type:\",type(c))\n",
        "print(\"d's type:\",type(d))\n",
        "print(\"e's type:\",type(e))\n",
        "print(\"f's type:\",type(f))\n",
        "# I changed rest of the print statments to look and act like a\n",
        "print(\"-----------------------------------\")\n",
        "x = [1,2,3] \n",
        "y=x\n",
        "x[0] = \"abc\" # This changes the space of the list, switching out 1 for abc\n",
        "#x[1] = \"stars\" I added this so i could change 2 to stars.\n",
        "print(y) \n",
        "#before you run, what will the value of y[0] be? (o or a)\n",
        "print(\"-----------------------------------\")\n",
        "z = x[1]\n",
        "x[1] = \"what\"\n",
        "print(x)\n",
        "print(z)\n",
        "x.append(70) # This added someting to the list \n",
        "x.insert(2,90) # This added 90 to space 0 in the list\n",
        "print(x)\n",
        "#can you predict what will be output?\n",
        "print(\"-----------------------------------\")\n",
        "print( x.index(90) )\n",
        "print( len(x) ) # This counts it regularly ignoring starting at 0\n",
        "print( x+x ) # This repreats the list 2 times\n",
        "#can you predict what will be output? \n",
        "print(\"----------Switching code-------------------------\")\n",
        "#List Slices \n",
        "\n",
        "my_list = [33, 55, 'hello','R2D2',7.8,'banana']\n",
        "print( my_list[1:5] ) \n",
        "print( my_list[:4])\n",
        "print( my_list[4:])\n",
        "print( my_list[:])\n",
        "print(\"-----------------------------------\")\n",
        "my_slice = my_list[1:5]\n",
        "my_slice[2] = 'what'\n",
        "print(my_slice)\n",
        "print(my_list)\n",
        "print(my_list[1:5] + 2*['Drake','University'])\n",
        "my_list[:0] = ['Bulldogs']\n",
        "print(my_list)\n",
        "# why isn't \"Drake\" or \"University\" printed out in this last line?"
      ]
    },
    {
      "cell_type": "code",
      "source": [],
      "metadata": {
        "id": "mFYzGkY3LZJj"
      },
      "execution_count": null,
      "outputs": []
    }
  ]
}